{
 "cells": [
  {
   "cell_type": "code",
   "execution_count": 1,
   "metadata": {},
   "outputs": [],
   "source": [
    "# Dependencies\n",
    "import matplotlib.pyplot as plt\n",
    "import numpy as np"
   ]
  },
  {
   "cell_type": "code",
   "execution_count": 22,
   "metadata": {},
   "outputs": [],
   "source": [
    "%matplotlib ipympl"
   ]
  },
  {
   "cell_type": "code",
   "execution_count": 23,
   "metadata": {},
   "outputs": [],
   "source": [
    "# Set x axis and variables\n",
    "x_axis = np.arange(0, 10, 0.1)\n",
    "sin = np.sin(x_axis)\n",
    "cos = np.cos(x_axis)"
   ]
  },
  {
   "cell_type": "code",
   "execution_count": 24,
   "metadata": {},
   "outputs": [
    {
     "data": {
      "application/vnd.jupyter.widget-view+json": {
       "model_id": "6a01c91464ce4d588719e10fe85d6a9c",
       "version_major": 2,
       "version_minor": 0
      },
      "text/plain": [
       "FigureCanvasNbAgg()"
      ]
     },
     "metadata": {},
     "output_type": "display_data"
    },
    {
     "data": {
      "text/plain": [
       "<matplotlib.collections.LineCollection at 0x2460dfef6d8>"
      ]
     },
     "execution_count": 24,
     "metadata": {},
     "output_type": "execute_result"
    }
   ],
   "source": [
    "# Draw a horizontal line with 0.25 transparency\n",
    "plt.hlines(0, 0, 10, alpha=0.25)"
   ]
  },
  {
   "cell_type": "code",
   "execution_count": 25,
   "metadata": {},
   "outputs": [
    {
     "data": {
      "text/plain": [
       "<matplotlib.legend.Legend at 0x2460dff42e8>"
      ]
     },
     "execution_count": 25,
     "metadata": {},
     "output_type": "execute_result"
    }
   ],
   "source": [
    "# Assign plots to tuples that stores result of plot\n",
    "\n",
    "# Each point on the sine chart is marked by a blue circle\n",
    "sine_handle, = plt.plot(x_axis, sin, marker ='o', color='blue', label=\"Sine\")\n",
    "# Each point on the cosine chart is marked by a red triangle\n",
    "cosine_handle, = plt.plot(x_axis, cos, marker='^', color='red', label=\"Cosine\")\n",
    "# Adds a legend and sets its location to the lower right\n",
    "plt.legend(loc=\"lower right\")"
   ]
  },
  {
   "cell_type": "code",
   "execution_count": 26,
   "metadata": {},
   "outputs": [
    {
     "data": {
      "text/plain": [
       "<matplotlib.legend.Legend at 0x2460dfefac8>"
      ]
     },
     "execution_count": 26,
     "metadata": {},
     "output_type": "execute_result"
    }
   ],
   "source": [
    "# Adds a legend and sets its location to the lower right\n",
    "plt.legend(loc=\"lower right\")"
   ]
  },
  {
   "cell_type": "code",
   "execution_count": 27,
   "metadata": {},
   "outputs": [],
   "source": [
    "# Saves an image of our chart so that we can view it in a folder\n",
    "plt.savefig(\"../Images/lineConfig.png\");"
   ]
  },
  {
   "cell_type": "code",
   "execution_count": 32,
   "metadata": {},
   "outputs": [
    {
     "name": "stdout",
     "output_type": "stream",
     "text": [
      "jupyter-widgets-jupyterlab-manager-0.36.1.tgz\n",
      "yarn install v1.6.0\n",
      "info No lockfile found.\n",
      "[1/4] Resolving packages...\n",
      "warning css-loader > cssnano > autoprefixer > browserslist@1.7.7: Browserslist 2 could fail on reading Browserslist >3.0 config used in other tools.\n",
      "warning css-loader > cssnano > postcss-merge-rules > browserslist@1.7.7: Browserslist 2 could fail on reading Browserslist >3.0 config used in other tools.\n",
      "warning css-loader > cssnano > postcss-merge-rules > caniuse-api > browserslist@1.7.7: Browserslist 2 could fail on reading Browserslist >3.0 config used in other tools.\n",
      "[2/4] Fetching packages...\n",
      "info There appears to be trouble with your network connection. Retrying...\n",
      "info fsevents@1.2.4: The platform \"win32\" is incompatible with this module.\n",
      "info \"fsevents@1.2.4\" is an optional dependency and failed compatibility check. Excluding it from installation.\n",
      "[3/4] Linking dependencies...\n",
      "warning \"@jupyterlab/vdom-extension > @nteract/transform-vdom@1.1.1\" has incorrect peer dependency \"react@^15.6.1\".\n",
      "[4/4] Building fresh packages...\n",
      "success Saved lockfile.\n",
      "Done in 267.77s.\n",
      "yarn run v1.6.0\n",
      "$ webpack --config webpack.prod.config.js\n",
      "C:\\ProgramData\\Anaconda3\\share\\jupyter\\lab\\staging\\node_modules\\webpack-cli\\bin\\cli.js:244\n",
      "\t\t\t\tthrow err;\n",
      "\t\t\t\t^\n",
      "\n",
      "Error: EPERM: operation not permitted, rmdir 'C:\\ProgramData\\Anaconda3\\share\\jupyter\\lab\\schemas\\@jupyterlab\\extensionmanager-extension'\n",
      "    at Object.fs.rmdirSync (fs.js:846:18)\n",
      "    at rmkidsSync (C:\\ProgramData\\Anaconda3\\share\\jupyter\\lab\\staging\\node_modules\\fs-extra\\lib\\remove\\rimraf.js:304:27)\n",
      "    at rmdirSync (C:\\ProgramData\\Anaconda3\\share\\jupyter\\lab\\staging\\node_modules\\fs-extra\\lib\\remove\\rimraf.js:281:7)\n",
      "    at fixWinEPERMSync (C:\\ProgramData\\Anaconda3\\share\\jupyter\\lab\\staging\\node_modules\\fs-extra\\lib\\remove\\rimraf.js:167:5)\n",
      "    at Object.rimrafSync [as removeSync] (C:\\ProgramData\\Anaconda3\\share\\jupyter\\lab\\staging\\node_modules\\fs-extra\\lib\\remove\\rimraf.js:260:26)\n",
      "    at C:\\ProgramData\\Anaconda3\\share\\jupyter\\lab\\staging\\node_modules\\@jupyterlab\\buildutils\\lib\\build.js:48:28\n",
      "    at Array.forEach (<anonymous>)\n",
      "    at Object.ensureAssets (C:\\ProgramData\\Anaconda3\\share\\jupyter\\lab\\staging\\node_modules\\@jupyterlab\\buildutils\\lib\\build.js:28:22)\n",
      "    at Object.<anonymous> (C:\\ProgramData\\Anaconda3\\share\\jupyter\\lab\\staging\\webpack.config.js:20:7)\n",
      "    at Module._compile (C:\\ProgramData\\Anaconda3\\share\\jupyter\\lab\\staging\\node_modules\\v8-compile-cache\\v8-compile-cache.js:178:30)\n",
      "    at Object.Module._extensions..js (module.js:646:10)\n",
      "    at Module.load (module.js:554:32)\n",
      "    at tryModuleLoad (module.js:497:12)\n",
      "    at Function.Module._load (module.js:489:3)\n",
      "    at Module.require (module.js:579:17)\n",
      "    at require (C:\\ProgramData\\Anaconda3\\share\\jupyter\\lab\\staging\\node_modules\\v8-compile-cache\\v8-compile-cache.js:159:20)\n",
      "    at Object.<anonymous> (C:\\ProgramData\\Anaconda3\\share\\jupyter\\lab\\staging\\webpack.prod.config.js:3:14)\n",
      "    at Module._compile (C:\\ProgramData\\Anaconda3\\share\\jupyter\\lab\\staging\\node_modules\\v8-compile-cache\\v8-compile-cache.js:178:30)\n",
      "    at Object.Module._extensions..js (module.js:646:10)\n",
      "    at Module.load (module.js:554:32)\n",
      "    at tryModuleLoad (module.js:497:12)\n",
      "    at Function.Module._load (module.js:489:3)\n",
      "    at Module.require (module.js:579:17)\n",
      "    at require (C:\\ProgramData\\Anaconda3\\share\\jupyter\\lab\\staging\\node_modules\\v8-compile-cache\\v8-compile-cache.js:159:20)\n",
      "    at WEBPACK_OPTIONS (C:\\ProgramData\\Anaconda3\\share\\jupyter\\lab\\staging\\node_modules\\webpack-cli\\bin\\convert-argv.js:133:13)\n",
      "    at requireConfig (C:\\ProgramData\\Anaconda3\\share\\jupyter\\lab\\staging\\node_modules\\webpack-cli\\bin\\convert-argv.js:135:6)\n",
      "    at C:\\ProgramData\\Anaconda3\\share\\jupyter\\lab\\staging\\node_modules\\webpack-cli\\bin\\convert-argv.js:142:17\n",
      "    at Array.forEach (<anonymous>)\n",
      "    at module.exports (C:\\ProgramData\\Anaconda3\\share\\jupyter\\lab\\staging\\node_modules\\webpack-cli\\bin\\convert-argv.js:140:15)\n",
      "    at yargs.parse (C:\\ProgramData\\Anaconda3\\share\\jupyter\\lab\\staging\\node_modules\\webpack-cli\\bin\\cli.js:241:39)\n",
      "    at Object.parse (C:\\ProgramData\\Anaconda3\\share\\jupyter\\lab\\staging\\node_modules\\yargs\\yargs.js:563:18)\n",
      "    at C:\\ProgramData\\Anaconda3\\share\\jupyter\\lab\\staging\\node_modules\\webpack-cli\\bin\\cli.js:219:8\n",
      "    at Object.<anonymous> (C:\\ProgramData\\Anaconda3\\share\\jupyter\\lab\\staging\\node_modules\\webpack-cli\\bin\\cli.js:530:3)\n",
      "    at Module._compile (module.js:635:30)\n",
      "    at Object.Module._extensions..js (module.js:646:10)\n",
      "    at Module.load (module.js:554:32)\n",
      "error Command failed with exit code 1.\n",
      "info Visit https://yarnpkg.com/en/docs/cli/run for documentation about this command.\n"
     ]
    },
    {
     "name": "stderr",
     "output_type": "stream",
     "text": [
      "> C:\\ProgramData\\Anaconda3\\npm.CMD pack @jupyter-widgets/jupyterlab-manager\n",
      "> node C:\\ProgramData\\Anaconda3\\lib\\site-packages\\jupyterlab\\staging\\yarn.js install\n",
      "> node C:\\ProgramData\\Anaconda3\\lib\\site-packages\\jupyterlab\\staging\\yarn.js run build:prod\n"
     ]
    }
   ],
   "source": [
    "!jupyter labextension install @jupyter-widgets/jupyterlab-manager"
   ]
  },
  {
   "cell_type": "code",
   "execution_count": 33,
   "metadata": {},
   "outputs": [
    {
     "name": "stdout",
     "output_type": "stream",
     "text": [
      "jupyter-matplotlib-0.3.0.tgz\n"
     ]
    },
    {
     "name": "stderr",
     "output_type": "stream",
     "text": [
      "> C:\\ProgramData\\Anaconda3\\npm.CMD pack jupyter-matplotlib\n",
      "\n",
      "Errored, use --debug for full output:\n",
      "PermissionError: [WinError 5] Access is denied: 'C:\\\\ProgramData\\\\Anaconda3\\\\share\\\\jupyter\\\\lab\\\\extensions\\\\jupyter-matplotlib-0.3.0.tgz'\n"
     ]
    }
   ],
   "source": [
    "!jupyter labextension install jupyter-matplotlib"
   ]
  },
  {
   "cell_type": "code",
   "execution_count": null,
   "metadata": {},
   "outputs": [],
   "source": []
  }
 ],
 "metadata": {
  "kernelspec": {
   "display_name": "Python [default]",
   "language": "python",
   "name": "python3"
  },
  "language_info": {
   "codemirror_mode": {
    "name": "ipython",
    "version": 3
   },
   "file_extension": ".py",
   "mimetype": "text/x-python",
   "name": "python",
   "nbconvert_exporter": "python",
   "pygments_lexer": "ipython3",
   "version": "3.5.5"
  }
 },
 "nbformat": 4,
 "nbformat_minor": 2
}
