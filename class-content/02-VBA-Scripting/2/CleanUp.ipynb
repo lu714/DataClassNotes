{
 "cells": [
  {
   "cell_type": "code",
   "execution_count": 16,
   "metadata": {},
   "outputs": [
    {
     "name": "stdout",
     "output_type": "stream",
     "text": [
      ".DS_Store\n",
      "Unsolved\n",
      "README.md\n",
      "Unsolved\n",
      "README.md\n",
      ".DS_Store\n",
      "Unsolved\n",
      "README.md\n",
      ".DS_Store\n",
      "Unsolved\n",
      "README.md\n",
      "Solved\n",
      ".DS_Store\n",
      "Unsolved\n",
      "README.md\n",
      "Solved\n",
      ".DS_Store\n",
      "Unsolved\n",
      "README.md\n",
      "Solved\n",
      "Unsolved\n",
      "README.md\n",
      "Solved\n",
      "Unsolved\n",
      "README.md\n",
      "Solved\n"
     ]
    }
   ],
   "source": [
    "import os\n",
    "import shutil\n",
    "import glob \n",
    "\n",
    "def listdir_nohidden(path):\n",
    "    return glob.glob(os.path.join(path, '*'))\n",
    "\n",
    "Activities_folder = listdir_nohidden('./Activities')\n",
    "\n",
    "\n",
    "individual_activity_file_path = []\n",
    "\n",
    "\n",
    "\n",
    "\n",
    "for folder in Activities_folder:\n",
    "    \n",
    "    for file in os.listdir(folder):\n",
    "        print(file)\n",
    "        if file == 'Solved':\n",
    "            path = os.path.join(folder_path,file)\n",
    "           \n",
    "#             shutil.rmtree(path)\n",
    "\n",
    " \n",
    "        \n",
    "    \n",
    "    "
   ]
  },
  {
   "cell_type": "code",
   "execution_count": null,
   "metadata": {},
   "outputs": [],
   "source": []
  }
 ],
 "metadata": {
  "kernelspec": {
   "display_name": "Python 3",
   "language": "python",
   "name": "python3"
  },
  "language_info": {
   "codemirror_mode": {
    "name": "ipython",
    "version": 3
   },
   "file_extension": ".py",
   "mimetype": "text/x-python",
   "name": "python",
   "nbconvert_exporter": "python",
   "pygments_lexer": "ipython3",
   "version": "3.6.4"
  }
 },
 "nbformat": 4,
 "nbformat_minor": 2
}
