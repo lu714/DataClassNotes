{
 "cells": [
  {
   "cell_type": "code",
   "execution_count": null,
   "metadata": {},
   "outputs": [],
   "source": []
  },
  {
   "cell_type": "code",
   "execution_count": 43,
   "metadata": {},
   "outputs": [
    {
     "name": "stdout",
     "output_type": "stream",
     "text": [
      "./Activities/03-Ins_ColorCounter/Solved\n",
      "./Activities/04-Stu_GradeBook/Solved\n",
      "./Activities/06-Stu_ApplesAndOranges/Solved\n",
      "./Activities/11-Ins_Lookups/Solved\n",
      "./Activities/12-Stu_ProductPivot/Solved\n",
      "./Activities/05-Ins_MultipleWorksheets/Solved\n",
      "./Activities/10-Stu_TopSongsPivot/Solved\n",
      "./Activities/09-Ins_PivotTables/Solved\n",
      "./Activities/02-Ins_NamedRanges/Solved\n",
      "./Activities/07-Ins_Formatting/Solved\n",
      "./Activities/01-Ins_ExcelPlayground/Solved\n",
      "./Activities/08-Stu_McDonaldsFormat/Solved\n"
     ]
    }
   ],
   "source": [
    "import os\n",
    "Activities_folder = os.listdir('./Activities')\n",
    "\n",
    "individual_activity_file_path = []\n",
    "\n",
    "\n",
    "for folder in Activities_folder:\n",
    "    folder_path = os.path.join('./Activities',folder)\n",
    "    \n",
    "    for file in os.listdir(folder_path):\n",
    "        if file == 'Solved':\n",
    "            path = os.path.join(folder_path,file)\n",
    "            os.removedirs(path)\n",
    "    \n",
    "    \n",
    " \n",
    "        \n",
    "    \n",
    "    "
   ]
  },
  {
   "cell_type": "code",
   "execution_count": 29,
   "metadata": {},
   "outputs": [
    {
     "data": {
      "text/plain": [
       "[0, 1, 4, 9, 16, 25, 36, 49, 64, 81]"
      ]
     },
     "execution_count": 29,
     "metadata": {},
     "output_type": "execute_result"
    }
   ],
   "source": [
    "[x**2 for x in range(10)]"
   ]
  },
  {
   "cell_type": "code",
   "execution_count": 30,
   "metadata": {},
   "outputs": [
    {
     "name": "stdout",
     "output_type": "stream",
     "text": [
      "0\n",
      "1\n",
      "2\n",
      "3\n",
      "4\n",
      "5\n",
      "6\n",
      "7\n",
      "8\n",
      "9\n"
     ]
    }
   ],
   "source": [
    "for x in range(10):\n",
    "    print(x)"
   ]
  },
  {
   "cell_type": "code",
   "execution_count": null,
   "metadata": {},
   "outputs": [],
   "source": []
  }
 ],
 "metadata": {
  "kernelspec": {
   "display_name": "Python 3",
   "language": "python",
   "name": "python3"
  },
  "language_info": {
   "codemirror_mode": {
    "name": "ipython",
    "version": 3
   },
   "file_extension": ".py",
   "mimetype": "text/x-python",
   "name": "python",
   "nbconvert_exporter": "python",
   "pygments_lexer": "ipython3",
   "version": "3.6.4"
  }
 },
 "nbformat": 4,
 "nbformat_minor": 2
}
