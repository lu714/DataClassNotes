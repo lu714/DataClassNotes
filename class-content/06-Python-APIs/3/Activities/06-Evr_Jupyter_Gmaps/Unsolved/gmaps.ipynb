{
 "cells": [
  {
   "cell_type": "code",
   "execution_count": 1,
   "metadata": {},
   "outputs": [],
   "source": [
    "import gmaps\n",
    "\n",
    "# Google developer API key\n",
    "from config import gkey"
   ]
  },
  {
   "cell_type": "code",
   "execution_count": 1,
   "metadata": {},
   "outputs": [
    {
     "name": "stdout",
     "output_type": "stream",
     "text": [
      "Collecting gmaps\n",
      "\u001b[?25l  Downloading https://files.pythonhosted.org/packages/38/6d/351fb2605ad757d296308be7714000b14599425ebeb6482d3cfcd2690a3f/gmaps-0.8.0.tar.gz (1.1MB)\n",
      "\u001b[K    100% |████████████████████████████████| 1.1MB 5.0MB/s ta 0:00:011\n",
      "\u001b[?25hRequirement already satisfied: ipython>=5.3.0 in /anaconda3/lib/python3.6/site-packages (from gmaps) (6.4.0)\n",
      "Requirement already satisfied: ipywidgets>=7.0.0 in /anaconda3/lib/python3.6/site-packages (from gmaps) (7.3.0)\n",
      "Requirement already satisfied: traitlets>=4.3.0 in /anaconda3/lib/python3.6/site-packages (from gmaps) (4.3.2)\n",
      "Collecting geojson>=2.0.0 (from gmaps)\n",
      "  Downloading https://files.pythonhosted.org/packages/8d/39/231105abbfd2332f108cdbfe736e56324949fa9e80e536ae60a082cf96a9/geojson-2.4.0-py2.py3-none-any.whl\n",
      "Requirement already satisfied: six in /anaconda3/lib/python3.6/site-packages (from gmaps) (1.11.0)\n",
      "Requirement already satisfied: decorator in /anaconda3/lib/python3.6/site-packages (from ipython>=5.3.0->gmaps) (4.3.0)\n",
      "Requirement already satisfied: pickleshare in /anaconda3/lib/python3.6/site-packages (from ipython>=5.3.0->gmaps) (0.7.4)\n",
      "Requirement already satisfied: jedi>=0.10 in /anaconda3/lib/python3.6/site-packages (from ipython>=5.3.0->gmaps) (0.12.1)\n",
      "Requirement already satisfied: pexpect; sys_platform != \"win32\" in /anaconda3/lib/python3.6/site-packages (from ipython>=5.3.0->gmaps) (4.6.0)\n",
      "Requirement already satisfied: backcall in /anaconda3/lib/python3.6/site-packages (from ipython>=5.3.0->gmaps) (0.1.0)\n",
      "Requirement already satisfied: setuptools>=18.5 in /anaconda3/lib/python3.6/site-packages (from ipython>=5.3.0->gmaps) (39.2.0)\n",
      "Requirement already satisfied: prompt-toolkit<2.0.0,>=1.0.15 in /anaconda3/lib/python3.6/site-packages (from ipython>=5.3.0->gmaps) (1.0.15)\n",
      "Requirement already satisfied: appnope; sys_platform == \"darwin\" in /anaconda3/lib/python3.6/site-packages (from ipython>=5.3.0->gmaps) (0.1.0)\n",
      "Requirement already satisfied: simplegeneric>0.8 in /anaconda3/lib/python3.6/site-packages (from ipython>=5.3.0->gmaps) (0.8.1)\n",
      "Requirement already satisfied: pygments in /anaconda3/lib/python3.6/site-packages (from ipython>=5.3.0->gmaps) (2.2.0)\n",
      "Requirement already satisfied: widgetsnbextension~=3.3.0 in /anaconda3/lib/python3.6/site-packages (from ipywidgets>=7.0.0->gmaps) (3.3.0)\n",
      "Requirement already satisfied: nbformat>=4.2.0 in /anaconda3/lib/python3.6/site-packages (from ipywidgets>=7.0.0->gmaps) (4.4.0)\n",
      "Requirement already satisfied: ipykernel>=4.5.1 in /anaconda3/lib/python3.6/site-packages (from ipywidgets>=7.0.0->gmaps) (4.8.2)\n",
      "Requirement already satisfied: ipython_genutils in /anaconda3/lib/python3.6/site-packages (from traitlets>=4.3.0->gmaps) (0.2.0)\n",
      "Requirement already satisfied: parso>=0.3.0 in /anaconda3/lib/python3.6/site-packages (from jedi>=0.10->ipython>=5.3.0->gmaps) (0.3.1)\n",
      "Requirement already satisfied: ptyprocess>=0.5 in /anaconda3/lib/python3.6/site-packages (from pexpect; sys_platform != \"win32\"->ipython>=5.3.0->gmaps) (0.6.0)\n",
      "Requirement already satisfied: wcwidth in /anaconda3/lib/python3.6/site-packages (from prompt-toolkit<2.0.0,>=1.0.15->ipython>=5.3.0->gmaps) (0.1.7)\n",
      "Requirement already satisfied: notebook>=4.4.1 in /anaconda3/lib/python3.6/site-packages (from widgetsnbextension~=3.3.0->ipywidgets>=7.0.0->gmaps) (5.6.0)\n",
      "Requirement already satisfied: jsonschema!=2.5.0,>=2.4 in /anaconda3/lib/python3.6/site-packages (from nbformat>=4.2.0->ipywidgets>=7.0.0->gmaps) (2.6.0)\n",
      "Requirement already satisfied: jupyter_core in /anaconda3/lib/python3.6/site-packages (from nbformat>=4.2.0->ipywidgets>=7.0.0->gmaps) (4.4.0)\n",
      "Requirement already satisfied: jupyter_client in /anaconda3/lib/python3.6/site-packages (from ipykernel>=4.5.1->ipywidgets>=7.0.0->gmaps) (5.2.3)\n",
      "Requirement already satisfied: tornado>=4.0 in /anaconda3/lib/python3.6/site-packages (from ipykernel>=4.5.1->ipywidgets>=7.0.0->gmaps) (5.0.2)\n",
      "Requirement already satisfied: jinja2 in /anaconda3/lib/python3.6/site-packages (from notebook>=4.4.1->widgetsnbextension~=3.3.0->ipywidgets>=7.0.0->gmaps) (2.10)\n",
      "Requirement already satisfied: pyzmq>=17 in /anaconda3/lib/python3.6/site-packages (from notebook>=4.4.1->widgetsnbextension~=3.3.0->ipywidgets>=7.0.0->gmaps) (17.0.0)\n",
      "Requirement already satisfied: prometheus-client in /anaconda3/lib/python3.6/site-packages (from notebook>=4.4.1->widgetsnbextension~=3.3.0->ipywidgets>=7.0.0->gmaps) (0.2.0)\n",
      "Requirement already satisfied: Send2Trash in /anaconda3/lib/python3.6/site-packages (from notebook>=4.4.1->widgetsnbextension~=3.3.0->ipywidgets>=7.0.0->gmaps) (1.5.0)\n",
      "Requirement already satisfied: nbconvert in /anaconda3/lib/python3.6/site-packages (from notebook>=4.4.1->widgetsnbextension~=3.3.0->ipywidgets>=7.0.0->gmaps) (5.3.1)\n",
      "Requirement already satisfied: terminado>=0.8.1 in /anaconda3/lib/python3.6/site-packages (from notebook>=4.4.1->widgetsnbextension~=3.3.0->ipywidgets>=7.0.0->gmaps) (0.8.1)\n",
      "Requirement already satisfied: python-dateutil>=2.1 in /anaconda3/lib/python3.6/site-packages (from jupyter_client->ipykernel>=4.5.1->ipywidgets>=7.0.0->gmaps) (2.7.3)\n",
      "Requirement already satisfied: MarkupSafe>=0.23 in /anaconda3/lib/python3.6/site-packages (from jinja2->notebook>=4.4.1->widgetsnbextension~=3.3.0->ipywidgets>=7.0.0->gmaps) (1.0)\n",
      "Requirement already satisfied: bleach in /anaconda3/lib/python3.6/site-packages (from nbconvert->notebook>=4.4.1->widgetsnbextension~=3.3.0->ipywidgets>=7.0.0->gmaps) (2.1.3)\n",
      "Requirement already satisfied: pandocfilters>=1.4.1 in /anaconda3/lib/python3.6/site-packages (from nbconvert->notebook>=4.4.1->widgetsnbextension~=3.3.0->ipywidgets>=7.0.0->gmaps) (1.4.2)\n",
      "Requirement already satisfied: entrypoints>=0.2.2 in /anaconda3/lib/python3.6/site-packages (from nbconvert->notebook>=4.4.1->widgetsnbextension~=3.3.0->ipywidgets>=7.0.0->gmaps) (0.2.3)\n",
      "Requirement already satisfied: testpath in /anaconda3/lib/python3.6/site-packages (from nbconvert->notebook>=4.4.1->widgetsnbextension~=3.3.0->ipywidgets>=7.0.0->gmaps) (0.3.1)\n",
      "Requirement already satisfied: mistune>=0.7.4 in /anaconda3/lib/python3.6/site-packages (from nbconvert->notebook>=4.4.1->widgetsnbextension~=3.3.0->ipywidgets>=7.0.0->gmaps) (0.8.3)\n",
      "Requirement already satisfied: html5lib!=1.0b1,!=1.0b2,!=1.0b3,!=1.0b4,!=1.0b5,!=1.0b6,!=1.0b7,!=1.0b8,>=0.99999999pre in /anaconda3/lib/python3.6/site-packages (from bleach->nbconvert->notebook>=4.4.1->widgetsnbextension~=3.3.0->ipywidgets>=7.0.0->gmaps) (1.0.1)\n",
      "Requirement already satisfied: webencodings in /anaconda3/lib/python3.6/site-packages (from html5lib!=1.0b1,!=1.0b2,!=1.0b3,!=1.0b4,!=1.0b5,!=1.0b6,!=1.0b7,!=1.0b8,>=0.99999999pre->bleach->nbconvert->notebook>=4.4.1->widgetsnbextension~=3.3.0->ipywidgets>=7.0.0->gmaps) (0.5.1)\n",
      "Building wheels for collected packages: gmaps\n",
      "  Running setup.py bdist_wheel for gmaps ... \u001b[?25ldone\n",
      "\u001b[?25h  Stored in directory: /Users/lwang/Library/Caches/pip/wheels/03/25/cd/097e0f11523a7a214390fcc056e68d45611bfe465be6c84d33\n",
      "Successfully built gmaps\n",
      "Installing collected packages: geojson, gmaps\n",
      "Successfully installed geojson-2.4.0 gmaps-0.8.0\n",
      "\u001b[33mYou are using pip version 10.0.1, however version 18.0 is available.\n",
      "You should consider upgrading via the 'pip install --upgrade pip' command.\u001b[0m\n"
     ]
    }
   ],
   "source": [
    "!pip install gmaps"
   ]
  },
  {
   "cell_type": "code",
   "execution_count": 2,
   "metadata": {},
   "outputs": [],
   "source": [
    "coordinates = [\n",
    "   (40.71, -74.00),\n",
    "   (30.26, -97.74),\n",
    "   (46.87, -96.78),\n",
    "   (47.60, -122.33),\n",
    "   (32.71, -117.16)\n",
    "]"
   ]
  },
  {
   "cell_type": "code",
   "execution_count": null,
   "metadata": {},
   "outputs": [],
   "source": []
  }
 ],
 "metadata": {
  "kernelspec": {
   "display_name": "Python 3",
   "language": "python",
   "name": "python3"
  },
  "language_info": {
   "codemirror_mode": {
    "name": "ipython",
    "version": 3
   },
   "file_extension": ".py",
   "mimetype": "text/x-python",
   "name": "python",
   "nbconvert_exporter": "python",
   "pygments_lexer": "ipython3",
   "version": "3.6.6"
  }
 },
 "nbformat": 4,
 "nbformat_minor": 2
}
