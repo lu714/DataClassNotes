{
 "cells": [
  {
   "cell_type": "code",
   "execution_count": 19,
   "metadata": {},
   "outputs": [],
   "source": [
    "# Create code to answer each of the following questions.\n",
    "# Hint: You will need multiple target URLs and multiple API requests.\n",
    "\n",
    "# Dependencies\n",
    "import requests\n",
    "import json\n",
    "\n",
    "# Google API Key\n",
    "from config import gkey"
   ]
  },
  {
   "cell_type": "code",
   "execution_count": 21,
   "metadata": {},
   "outputs": [
    {
     "name": "stdout",
     "output_type": "stream",
     "text": [
      "Drill #1: The Geocoordinates of Seattle, WA\n",
      "Seattle, Washington: 47.6062095, -122.3320708\n"
     ]
    }
   ],
   "source": [
    "# 1. What are the geocoordinates (latitude and longitude) of Seattle,\n",
    "# Washington?\n",
    "target_city = \"Seattle, Washington\"\n",
    "\n",
    "params = {\"address\": target_city, \"key\": gkey}\n",
    "\n",
    "# Build URL using the Google Maps API\n",
    "base_url = \"https://maps.googleapis.com/maps/api/geocode/json\"\n",
    "\n",
    "print(\"Drill #1: The Geocoordinates of Seattle, WA\")\n",
    "\n",
    "# Run request\n",
    "response = requests.get(base_url, params=params)\n",
    "\n",
    "# print the response URL, avoid doing for public GitHub repos in order to avoid exposing key\n",
    "# print(response.url)\n",
    "\n",
    "# Convert to JSON\n",
    "seattle_geo = response.json()\n",
    "\n",
    "# Extract lat/lng\n",
    "lat = seattle_geo[\"results\"][0][\"geometry\"][\"location\"][\"lat\"]\n",
    "lng = seattle_geo[\"results\"][0][\"geometry\"][\"location\"][\"lng\"]\n",
    "\n",
    "# Print results\n",
    "print(f\"{target_city}: {lat}, {lng}\")"
   ]
  },
  {
   "cell_type": "code",
   "execution_count": 22,
   "metadata": {},
   "outputs": [
    {
     "name": "stdout",
     "output_type": "stream",
     "text": [
      "Drill #2: The Geocoordinates of the White House\n",
      "The White House: 38.8976763, -77.0365298\n"
     ]
    }
   ],
   "source": [
    "# 2. What are the geocoordinates (latitude and longitude) of The White House?\n",
    "# update params dict\n",
    "target_city = \"The White House\"\n",
    "params[\"address\"] = target_city\n",
    "\n",
    "\n",
    "print(\"Drill #2: The Geocoordinates of the White House\")\n",
    "\n",
    "\n",
    "# Run request\n",
    "response = requests.get(base_url, params=params)\n",
    "\n",
    "# print the response URL, avoid doing for public GitHub repos in order to avoid exposing key\n",
    "# print(response.url)\n",
    "\n",
    "dc_geo = response.json()\n",
    "# Extract lat/lng\n",
    "lat = dc_geo[\"results\"][0][\"geometry\"][\"location\"][\"lat\"]\n",
    "lng = dc_geo[\"results\"][0][\"geometry\"][\"location\"][\"lng\"]\n",
    "\n",
    "# Print results\n",
    "print(f\"{target_city}: {lat}, {lng}\")"
   ]
  },
  {
   "cell_type": "code",
   "execution_count": 34,
   "metadata": {},
   "outputs": [
    {
     "name": "stdout",
     "output_type": "stream",
     "text": [
      "REI\n",
      "222 Yale Avenue North, Seattle\n"
     ]
    }
   ],
   "source": [
    "# 3. Find the name and address of a bike store in Seattle, Washington.\n",
    "#    Hint: See https://developers.google.com/places/web-service/supported_types\n",
    "target_type = \"bicycle_store\"\n",
    "seattle_coords = \"47.6062095,-122.3320708\"\n",
    "radius = 15000\n",
    "\n",
    "# rewrite params dict\n",
    "\n",
    "params = {\n",
    "    \"location\": seattle_coords,\n",
    "    \"types\": target_type,\n",
    "    \"radius\": radius,\n",
    "    \"key\": gkey\n",
    "}\n",
    "\n",
    "# Build URL using the Google Maps API\n",
    "base_url = \"https://maps.googleapis.com/maps/api/place/nearbysearch/json\"\n",
    "\n",
    "# print(\"Drill #3: A Bike Store in Seattle, WA\")\n",
    "\n",
    "# Run request\n",
    "response = requests.get(base_url, params)\n",
    "\n",
    "# print the response URL, avoid doing for public GitHub repos in order to avoid exposing key\n",
    "# print(response.json())\n",
    "\n",
    "seattle_bikes = response.json()\n",
    "\n",
    "# Print the JSON (pretty printed)\n",
    "# print(json.dumps(seattle_bikes, indent=4, sort_keys=True))\n",
    "\n",
    "# Print the name and address of the first bike shop to appear\n",
    "print(seattle_bikes[\"results\"][0]['name'])\n",
    "print(seattle_bikes[\"results\"][0][\"vicinity\"])"
   ]
  },
  {
   "cell_type": "code",
   "execution_count": 14,
   "metadata": {},
   "outputs": [
    {
     "name": "stdout",
     "output_type": "stream",
     "text": [
      "Drill #4: A Balloon Store Near the White House\n"
     ]
    },
    {
     "ename": "IndexError",
     "evalue": "list index out of range",
     "output_type": "error",
     "traceback": [
      "\u001b[0;31m---------------------------------------------------------------------------\u001b[0m",
      "\u001b[0;31mIndexError\u001b[0m                                Traceback (most recent call last)",
      "\u001b[0;32m<ipython-input-14-a249b13a21b5>\u001b[0m in \u001b[0;36m<module>\u001b[0;34m()\u001b[0m\n\u001b[1;32m     23\u001b[0m \u001b[0;34m\u001b[0m\u001b[0m\n\u001b[1;32m     24\u001b[0m \u001b[0;31m# Print the name and address of the first balloon shop that appears\u001b[0m\u001b[0;34m\u001b[0m\u001b[0;34m\u001b[0m\u001b[0m\n\u001b[0;32m---> 25\u001b[0;31m \u001b[0mprint\u001b[0m\u001b[0;34m(\u001b[0m\u001b[0mdc_balloons\u001b[0m\u001b[0;34m[\u001b[0m\u001b[0;34m\"results\"\u001b[0m\u001b[0;34m]\u001b[0m\u001b[0;34m[\u001b[0m\u001b[0;36m0\u001b[0m\u001b[0;34m]\u001b[0m\u001b[0;34m[\u001b[0m\u001b[0;34m\"name\"\u001b[0m\u001b[0;34m]\u001b[0m\u001b[0;34m)\u001b[0m\u001b[0;34m\u001b[0m\u001b[0m\n\u001b[0m\u001b[1;32m     26\u001b[0m \u001b[0mprint\u001b[0m\u001b[0;34m(\u001b[0m\u001b[0mdc_balloons\u001b[0m\u001b[0;34m[\u001b[0m\u001b[0;34m\"results\"\u001b[0m\u001b[0;34m]\u001b[0m\u001b[0;34m[\u001b[0m\u001b[0;36m0\u001b[0m\u001b[0;34m]\u001b[0m\u001b[0;34m[\u001b[0m\u001b[0;34m\"vicinity\"\u001b[0m\u001b[0;34m]\u001b[0m\u001b[0;34m)\u001b[0m\u001b[0;34m\u001b[0m\u001b[0m\n",
      "\u001b[0;31mIndexError\u001b[0m: list index out of range"
     ]
    }
   ],
   "source": [
    "# 4. Find a balloon store near the White House.\n",
    "target_search = \"Balloon Store\"\n",
    "dc_coords = \"38.8976763,-77.0365298\"\n",
    "\n",
    "# redefine params\n",
    "params = {\n",
    "    \"location\": dc_coords,\n",
    "    \"keyword\": target_search,\n",
    "    \"radius\": radius,\n",
    "    \"key\": gkey\n",
    "}\n",
    "\n",
    "# Build URL using the Google Maps API\n",
    "base_url = \"https://maps.googleapis.com/maps/api/place/nearbysearch/json\"\n",
    "\n",
    "print(\"Drill #4: A Balloon Store Near the White House\")\n",
    "\n",
    "# Run request\n",
    "dc_balloons = requests.get(base_url, params).json()\n",
    "\n",
    "# Print the JSON (pretty printed)\n",
    "# print(json.dumps(dc_balloons, indent=4, sort_keys=True))\n",
    "\n",
    "# Print the name and address of the first balloon shop that appears\n",
    "print(dc_balloons[\"results\"][0][\"name\"])\n",
    "print(dc_balloons[\"results\"][0][\"vicinity\"])"
   ]
  },
  {
   "cell_type": "code",
   "execution_count": 17,
   "metadata": {},
   "outputs": [
    {
     "name": "stdout",
     "output_type": "stream",
     "text": [
      "Drill #5: A Dentist Near My House\n"
     ]
    },
    {
     "ename": "IndexError",
     "evalue": "list index out of range",
     "output_type": "error",
     "traceback": [
      "\u001b[0;31m---------------------------------------------------------------------------\u001b[0m",
      "\u001b[0;31mIndexError\u001b[0m                                Traceback (most recent call last)",
      "\u001b[0;32m<ipython-input-17-635a2f6884c2>\u001b[0m in \u001b[0;36m<module>\u001b[0;34m()\u001b[0m\n\u001b[1;32m     46\u001b[0m \u001b[0;34m\u001b[0m\u001b[0m\n\u001b[1;32m     47\u001b[0m \u001b[0;31m# Print the name and address of the first dentist that appears\u001b[0m\u001b[0;34m\u001b[0m\u001b[0;34m\u001b[0m\u001b[0m\n\u001b[0;32m---> 48\u001b[0;31m \u001b[0mprint\u001b[0m\u001b[0;34m(\u001b[0m\u001b[0mmy_dentist\u001b[0m\u001b[0;34m[\u001b[0m\u001b[0;34m\"results\"\u001b[0m\u001b[0;34m]\u001b[0m\u001b[0;34m[\u001b[0m\u001b[0;36m0\u001b[0m\u001b[0;34m]\u001b[0m\u001b[0;34m[\u001b[0m\u001b[0;34m\"name\"\u001b[0m\u001b[0;34m]\u001b[0m\u001b[0;34m)\u001b[0m\u001b[0;34m\u001b[0m\u001b[0m\n\u001b[0m\u001b[1;32m     49\u001b[0m \u001b[0mprint\u001b[0m\u001b[0;34m(\u001b[0m\u001b[0mmy_dentist\u001b[0m\u001b[0;34m[\u001b[0m\u001b[0;34m\"results\"\u001b[0m\u001b[0;34m]\u001b[0m\u001b[0;34m[\u001b[0m\u001b[0;36m0\u001b[0m\u001b[0;34m]\u001b[0m\u001b[0;34m[\u001b[0m\u001b[0;34m\"vicinity\"\u001b[0m\u001b[0;34m]\u001b[0m\u001b[0;34m)\u001b[0m\u001b[0;34m\u001b[0m\u001b[0m\n",
      "\u001b[0;31mIndexError\u001b[0m: list index out of range"
     ]
    }
   ],
   "source": [
    "# 5. Find the nearest dentist to your house.\n",
    "# Hint: Use Google Maps to find your latitude and Google Places to find\n",
    "# the dentist. You may also need the rankby property.\n",
    "\n",
    "# Google geocode to find lat, lng\n",
    "my_address = \"151 Sip Ave\"\n",
    "\n",
    "\n",
    "params = {\n",
    "    \"address\": my_address,\n",
    "    \"key\": gkey\n",
    "}\n",
    "\n",
    "base_url = \"https://maps.googleapis.com/maps/api/geocode/json\"\n",
    "\n",
    "print(\"Drill #5: A Dentist Near My House\")\n",
    "\n",
    "my_geo = requests.get(base_url, params).json()\n",
    "\n",
    "lat = my_geo[\"results\"][0][\"geometry\"][\"location\"][\"lat\"]\n",
    "lng = my_geo[\"results\"][0][\"geometry\"][\"location\"][\"lng\"]\n",
    "\n",
    "\n",
    "# Use lat, lng to use places API to find nearest dentist\n",
    "target_search = \"dentist\"\n",
    "\n",
    "params = {\n",
    "    \"location\": f\"{lat},{lng}\",\n",
    "    \"types\": target_search,\n",
    "    \"rankby\": \"distance\",\n",
    "    \"key\": gkey\n",
    "}\n",
    "\n",
    "base_url = \"https://maps.googleapis.com/maps/api/place/nearbysearch/json\"\n",
    "\n",
    "\n",
    "# Run request\n",
    "response = requests.get(base_url, params)\n",
    "\n",
    "# print the response URL, avoid doing for public GitHub repos in order to avoid exposing key\n",
    "# print(response.url)\n",
    "my_dentist = response.json()\n",
    "\n",
    "# Print the JSON (pretty printed)\n",
    "# print(json.dumps(my_dentist, indent=4, sort_keys=True))\n",
    "\n",
    "# Print the name and address of the first dentist that appears\n",
    "print(my_dentist[\"results\"][0][\"name\"])\n",
    "print(my_dentist[\"results\"][0][\"vicinity\"])"
   ]
  },
  {
   "cell_type": "code",
   "execution_count": 16,
   "metadata": {},
   "outputs": [
    {
     "name": "stdout",
     "output_type": "stream",
     "text": [
      "Drill #6: Bonus\n"
     ]
    }
   ],
   "source": [
    "# 6. Bonus: Find the names and addresses of the top five restaurants in your home city.\n",
    "#    Hint: Read about \"Text Search Results\"\n",
    "# (https://developers.google.com/places/web-service/search#TextSearchRequests)\n",
    "my_phrase = \"best restaurant in Washington, DC\"\n",
    "target_url = \"https://maps.googleapis.com/maps/api/place/textsearch/json\"\n",
    "\n",
    "params = {\n",
    "    \"query\": my_phrase,\n",
    "    \"key\": gkey\n",
    "}\n",
    "\n",
    "print(\"Drill #6: Bonus\")\n",
    "\n",
    "response = requests.get(target_url, params)\n",
    "\n",
    "# print the response URL, avoid doing for public GitHub repos in order to avoid exposing key\n",
    "# print(response.url)\n",
    "happy_places = response.json()\n",
    "# print(json.dumps(happy_places, indent=4, sort_keys=True))\n",
    "\n",
    "counter = 0\n",
    "\n",
    "for place in happy_places[\"results\"]:\n",
    "    print(place[\"name\"])\n",
    "    print(place[\"formatted_address\"])\n",
    "    counter += 1\n",
    "    if counter == 5:\n",
    "        break"
   ]
  },
  {
   "cell_type": "code",
   "execution_count": null,
   "metadata": {},
   "outputs": [],
   "source": []
  },
  {
   "cell_type": "code",
   "execution_count": null,
   "metadata": {},
   "outputs": [],
   "source": []
  }
 ],
 "metadata": {
  "kernelspec": {
   "display_name": "Python 3",
   "language": "python",
   "name": "python3"
  },
  "language_info": {
   "codemirror_mode": {
    "name": "ipython",
    "version": 3
   },
   "file_extension": ".py",
   "mimetype": "text/x-python",
   "name": "python",
   "nbconvert_exporter": "python",
   "pygments_lexer": "ipython3",
   "version": "3.6.6"
  }
 },
 "nbformat": 4,
 "nbformat_minor": 2
}
