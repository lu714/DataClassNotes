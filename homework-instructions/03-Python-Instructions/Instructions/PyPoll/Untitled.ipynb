{
 "cells": [
  {
   "cell_type": "code",
   "execution_count": 119,
   "metadata": {},
   "outputs": [],
   "source": [
    "import os\n",
    "import csv\n",
    "import pandas as pd"
   ]
  },
  {
   "cell_type": "code",
   "execution_count": 2,
   "metadata": {},
   "outputs": [],
   "source": [
    "count = 0\n",
    "canidate_name = []\n",
    "name_count = {}"
   ]
  },
  {
   "cell_type": "code",
   "execution_count": 3,
   "metadata": {},
   "outputs": [],
   "source": [
    "from collections import Counter\n",
    "pypoll_csv = ('./resources/election_data.csv')\n",
    "\n",
    "with open (pypoll_csv, newline=\"\") as csvfile:\n",
    "    reader = csv.DictReader(open(pypoll_csv))\n",
    "    \n",
    "#get the list of Candidate by key\n",
    "candidate_lst = [c['Candidate'] for c in reader]\n",
    "\n",
    "#COUNT votes for each candidate as dict\n",
    "candidate_dict = dict(Counter(candidate_lst))"
   ]
  },
  {
   "cell_type": "code",
   "execution_count": 196,
   "metadata": {},
   "outputs": [],
   "source": [
    "percentage = []\n",
    "\n",
    "for i in candidate_dict.values():\n",
    "    percentage.append(i/sum(candidate_dict.values())*100)\n",
    "    \n",
    "candidate_perc_dict = dict(zip(list(candidate_dict.keys()),percentage))"
   ]
  },
  {
   "cell_type": "code",
   "execution_count": 136,
   "metadata": {},
   "outputs": [],
   "source": [
    "new_dict = {}\n",
    "for k,v in candidate_dict.items():\n",
    "    new_dict.update(dict({v:k}))\n",
    "\n",
    "values = sorted(new_dict.keys(),reverse=True)\n",
    "new_dict_ordered = [new_dict.get(i) for i in values]"
   ]
  },
  {
   "cell_type": "code",
   "execution_count": 267,
   "metadata": {},
   "outputs": [
    {
     "name": "stdout",
     "output_type": "stream",
     "text": [
      "Khan: 63.000% (2218231)\n",
      "Correy: 20.000% (704200)\n",
      "Li: 14.000% (492940)\n",
      "O'Tooley: 3.000% (105630)\n"
     ]
    }
   ],
   "source": [
    "for name in new_dict_ordered:\n",
    "    print('{}: {:.3f}% ({})'.format(name,candidate_perc_dict.get(name),candidate_dict.get(name)))"
   ]
  },
  {
   "cell_type": "code",
   "execution_count": null,
   "metadata": {},
   "outputs": [],
   "source": []
  }
 ],
 "metadata": {
  "kernelspec": {
   "display_name": "Python [default]",
   "language": "python",
   "name": "python3"
  },
  "language_info": {
   "codemirror_mode": {
    "name": "ipython",
    "version": 3
   },
   "file_extension": ".py",
   "mimetype": "text/x-python",
   "name": "python",
   "nbconvert_exporter": "python",
   "pygments_lexer": "ipython3",
   "version": "3.5.5"
  }
 },
 "nbformat": 4,
 "nbformat_minor": 2
}
